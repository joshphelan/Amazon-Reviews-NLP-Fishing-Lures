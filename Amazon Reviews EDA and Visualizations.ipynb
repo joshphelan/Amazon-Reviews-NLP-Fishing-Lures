{
 "cells": [
  {
   "cell_type": "markdown",
   "id": "64ce2b70",
   "metadata": {},
   "source": [
    "# Amazon Reviews EDA and Visualizations"
   ]
  },
  {
   "cell_type": "code",
   "execution_count": 1,
   "id": "5f1c2b72",
   "metadata": {},
   "outputs": [],
   "source": [
    "import pandas as pd\n",
    "import numpy as np\n",
    "import matplotlib.pyplot as plt\n",
    "import seaborn as sns\n",
    "%matplotlib inline"
   ]
  },
  {
   "cell_type": "markdown",
   "id": "74adf446",
   "metadata": {},
   "source": [
    "### Data Overview"
   ]
  },
  {
   "cell_type": "code",
   "execution_count": 2,
   "id": "0cdc8c52",
   "metadata": {},
   "outputs": [],
   "source": [
    "# Read products and reviews tables created in 'Amazon Reviews Web Scraping.py'\n",
    "products_df = pd.read_csv('Data/Products.csv')\n",
    "reviews_df = pd.read_csv('Data/Reviews.csv')"
   ]
  },
  {
   "cell_type": "code",
   "execution_count": 3,
   "id": "342cc62a",
   "metadata": {},
   "outputs": [
    {
     "data": {
      "text/html": [
       "<div>\n",
       "<style scoped>\n",
       "    .dataframe tbody tr th:only-of-type {\n",
       "        vertical-align: middle;\n",
       "    }\n",
       "\n",
       "    .dataframe tbody tr th {\n",
       "        vertical-align: top;\n",
       "    }\n",
       "\n",
       "    .dataframe thead th {\n",
       "        text-align: right;\n",
       "    }\n",
       "</style>\n",
       "<table border=\"1\" class=\"dataframe\">\n",
       "  <thead>\n",
       "    <tr style=\"text-align: right;\">\n",
       "      <th></th>\n",
       "      <th>asin</th>\n",
       "      <th>Name</th>\n",
       "      <th>Price</th>\n",
       "      <th>Avg Rating</th>\n",
       "      <th># of Ratings</th>\n",
       "    </tr>\n",
       "  </thead>\n",
       "  <tbody>\n",
       "    <tr>\n",
       "      <th>0</th>\n",
       "      <td>B018MGKXQY</td>\n",
       "      <td>YUM Dinger Classic Worm All-Purpose Soft Plast...</td>\n",
       "      <td>3.49</td>\n",
       "      <td>4.7</td>\n",
       "      <td>3293</td>\n",
       "    </tr>\n",
       "    <tr>\n",
       "      <th>1</th>\n",
       "      <td>B07W614F4T</td>\n",
       "      <td>Dr.Fish 6 Pack Soft Baits, 3.15 Inch Staight T...</td>\n",
       "      <td>7.99</td>\n",
       "      <td>4.2</td>\n",
       "      <td>160</td>\n",
       "    </tr>\n",
       "    <tr>\n",
       "      <th>2</th>\n",
       "      <td>B086TNYTF3</td>\n",
       "      <td>YUM Dinger Classic Worm All-Purpose Soft Plast...</td>\n",
       "      <td>27.99</td>\n",
       "      <td>4.7</td>\n",
       "      <td>448</td>\n",
       "    </tr>\n",
       "    <tr>\n",
       "      <th>3</th>\n",
       "      <td>B0000C6E0N</td>\n",
       "      <td>Zoom Bait Brush Hog Bait-Pack of 8</td>\n",
       "      <td>3.58</td>\n",
       "      <td>4.6</td>\n",
       "      <td>1024</td>\n",
       "    </tr>\n",
       "    <tr>\n",
       "      <th>4</th>\n",
       "      <td>B0BK45ZVL6</td>\n",
       "      <td>CWSDXM Soft Fishing Lures, 6.5cm/8cm Paddle Ta...</td>\n",
       "      <td>13.99</td>\n",
       "      <td>5.0</td>\n",
       "      <td>1</td>\n",
       "    </tr>\n",
       "  </tbody>\n",
       "</table>\n",
       "</div>"
      ],
      "text/plain": [
       "         asin                                               Name  Price  \\\n",
       "0  B018MGKXQY  YUM Dinger Classic Worm All-Purpose Soft Plast...   3.49   \n",
       "1  B07W614F4T  Dr.Fish 6 Pack Soft Baits, 3.15 Inch Staight T...   7.99   \n",
       "2  B086TNYTF3  YUM Dinger Classic Worm All-Purpose Soft Plast...  27.99   \n",
       "3  B0000C6E0N                 Zoom Bait Brush Hog Bait-Pack of 8   3.58   \n",
       "4  B0BK45ZVL6  CWSDXM Soft Fishing Lures, 6.5cm/8cm Paddle Ta...  13.99   \n",
       "\n",
       "   Avg Rating  # of Ratings  \n",
       "0         4.7          3293  \n",
       "1         4.2           160  \n",
       "2         4.7           448  \n",
       "3         4.6          1024  \n",
       "4         5.0             1  "
      ]
     },
     "execution_count": 3,
     "metadata": {},
     "output_type": "execute_result"
    }
   ],
   "source": [
    "products_df.head()"
   ]
  },
  {
   "cell_type": "code",
   "execution_count": 4,
   "id": "616ba848",
   "metadata": {},
   "outputs": [
    {
     "data": {
      "text/html": [
       "<div>\n",
       "<style scoped>\n",
       "    .dataframe tbody tr th:only-of-type {\n",
       "        vertical-align: middle;\n",
       "    }\n",
       "\n",
       "    .dataframe tbody tr th {\n",
       "        vertical-align: top;\n",
       "    }\n",
       "\n",
       "    .dataframe thead th {\n",
       "        text-align: right;\n",
       "    }\n",
       "</style>\n",
       "<table border=\"1\" class=\"dataframe\">\n",
       "  <thead>\n",
       "    <tr style=\"text-align: right;\">\n",
       "      <th></th>\n",
       "      <th>asin</th>\n",
       "      <th>Review ID</th>\n",
       "      <th>Title</th>\n",
       "      <th>Body</th>\n",
       "      <th>Rating</th>\n",
       "    </tr>\n",
       "  </thead>\n",
       "  <tbody>\n",
       "    <tr>\n",
       "      <th>0</th>\n",
       "      <td>B08CQ4HXHV</td>\n",
       "      <td>R2Y2A5WJ9Q84I9</td>\n",
       "      <td>\\nI keep stocked up\\n</td>\n",
       "      <td>\\nThis is my go to worm on the Little Pigeon R...</td>\n",
       "      <td>5.0</td>\n",
       "    </tr>\n",
       "    <tr>\n",
       "      <th>1</th>\n",
       "      <td>B08CQ4HXHV</td>\n",
       "      <td>RJHR3X7CVOZE8</td>\n",
       "      <td>\\nIt just works\\n</td>\n",
       "      <td>\\nOne of my most successful soft plastics, the...</td>\n",
       "      <td>4.0</td>\n",
       "    </tr>\n",
       "    <tr>\n",
       "      <th>2</th>\n",
       "      <td>B08CQ4HXHV</td>\n",
       "      <td>R2D40LMXK190YP</td>\n",
       "      <td>\\nThese baits catch fish!\\n</td>\n",
       "      <td>\\nThey catch fish and they’re durable too. I’v...</td>\n",
       "      <td>5.0</td>\n",
       "    </tr>\n",
       "    <tr>\n",
       "      <th>3</th>\n",
       "      <td>B08CQ4HXHV</td>\n",
       "      <td>R1KKR6D1SQ3D4D</td>\n",
       "      <td>\\nThese things just catch fish.\\n</td>\n",
       "      <td>\\nDon't have the action of a Yamamoto but stil...</td>\n",
       "      <td>4.0</td>\n",
       "    </tr>\n",
       "    <tr>\n",
       "      <th>4</th>\n",
       "      <td>B08CQ4HXHV</td>\n",
       "      <td>R1V6NVM2KWFOZ5</td>\n",
       "      <td>\\nBass love it\\n</td>\n",
       "      <td>\\nIt’s a hit with the bass, but rips easily.  ...</td>\n",
       "      <td>4.0</td>\n",
       "    </tr>\n",
       "  </tbody>\n",
       "</table>\n",
       "</div>"
      ],
      "text/plain": [
       "         asin       Review ID                              Title  \\\n",
       "0  B08CQ4HXHV  R2Y2A5WJ9Q84I9              \\nI keep stocked up\\n   \n",
       "1  B08CQ4HXHV   RJHR3X7CVOZE8                  \\nIt just works\\n   \n",
       "2  B08CQ4HXHV  R2D40LMXK190YP        \\nThese baits catch fish!\\n   \n",
       "3  B08CQ4HXHV  R1KKR6D1SQ3D4D  \\nThese things just catch fish.\\n   \n",
       "4  B08CQ4HXHV  R1V6NVM2KWFOZ5                   \\nBass love it\\n   \n",
       "\n",
       "                                                Body  Rating  \n",
       "0  \\nThis is my go to worm on the Little Pigeon R...     5.0  \n",
       "1  \\nOne of my most successful soft plastics, the...     4.0  \n",
       "2  \\nThey catch fish and they’re durable too. I’v...     5.0  \n",
       "3  \\nDon't have the action of a Yamamoto but stil...     4.0  \n",
       "4  \\nIt’s a hit with the bass, but rips easily.  ...     4.0  "
      ]
     },
     "execution_count": 4,
     "metadata": {},
     "output_type": "execute_result"
    }
   ],
   "source": [
    "reviews_df.head()"
   ]
  },
  {
   "cell_type": "code",
   "execution_count": 5,
   "id": "a62ac7e9",
   "metadata": {},
   "outputs": [
    {
     "data": {
      "text/plain": [
       "'\\nThis is my go to worm on the Little Pigeon River in Tennessee. I saw this on You Tubes Creek Fishing Adventures. When all else fails I turn to this. Many days this was all I needed to haul in large Smallmouth. My current PB was caught on this worm.\\n'"
      ]
     },
     "execution_count": 5,
     "metadata": {},
     "output_type": "execute_result"
    }
   ],
   "source": [
    "# Example review\n",
    "reviews_df['Body'][0]"
   ]
  },
  {
   "cell_type": "code",
   "execution_count": 6,
   "id": "01178298",
   "metadata": {},
   "outputs": [
    {
     "data": {
      "text/html": [
       "<div>\n",
       "<style scoped>\n",
       "    .dataframe tbody tr th:only-of-type {\n",
       "        vertical-align: middle;\n",
       "    }\n",
       "\n",
       "    .dataframe tbody tr th {\n",
       "        vertical-align: top;\n",
       "    }\n",
       "\n",
       "    .dataframe thead th {\n",
       "        text-align: right;\n",
       "    }\n",
       "</style>\n",
       "<table border=\"1\" class=\"dataframe\">\n",
       "  <thead>\n",
       "    <tr style=\"text-align: right;\">\n",
       "      <th></th>\n",
       "      <th>Price</th>\n",
       "      <th>Avg Rating</th>\n",
       "      <th># of Ratings</th>\n",
       "    </tr>\n",
       "  </thead>\n",
       "  <tbody>\n",
       "    <tr>\n",
       "      <th>count</th>\n",
       "      <td>317.000000</td>\n",
       "      <td>317.000000</td>\n",
       "      <td>317.000000</td>\n",
       "    </tr>\n",
       "    <tr>\n",
       "      <th>mean</th>\n",
       "      <td>12.689306</td>\n",
       "      <td>4.186751</td>\n",
       "      <td>126.495268</td>\n",
       "    </tr>\n",
       "    <tr>\n",
       "      <th>std</th>\n",
       "      <td>7.687224</td>\n",
       "      <td>0.671773</td>\n",
       "      <td>499.747402</td>\n",
       "    </tr>\n",
       "    <tr>\n",
       "      <th>min</th>\n",
       "      <td>2.960000</td>\n",
       "      <td>1.000000</td>\n",
       "      <td>1.000000</td>\n",
       "    </tr>\n",
       "    <tr>\n",
       "      <th>25%</th>\n",
       "      <td>7.990000</td>\n",
       "      <td>4.000000</td>\n",
       "      <td>2.000000</td>\n",
       "    </tr>\n",
       "    <tr>\n",
       "      <th>50%</th>\n",
       "      <td>9.990000</td>\n",
       "      <td>4.300000</td>\n",
       "      <td>9.000000</td>\n",
       "    </tr>\n",
       "    <tr>\n",
       "      <th>75%</th>\n",
       "      <td>15.330000</td>\n",
       "      <td>4.500000</td>\n",
       "      <td>48.000000</td>\n",
       "    </tr>\n",
       "    <tr>\n",
       "      <th>max</th>\n",
       "      <td>59.990000</td>\n",
       "      <td>5.000000</td>\n",
       "      <td>7039.000000</td>\n",
       "    </tr>\n",
       "  </tbody>\n",
       "</table>\n",
       "</div>"
      ],
      "text/plain": [
       "            Price  Avg Rating  # of Ratings\n",
       "count  317.000000  317.000000    317.000000\n",
       "mean    12.689306    4.186751    126.495268\n",
       "std      7.687224    0.671773    499.747402\n",
       "min      2.960000    1.000000      1.000000\n",
       "25%      7.990000    4.000000      2.000000\n",
       "50%      9.990000    4.300000      9.000000\n",
       "75%     15.330000    4.500000     48.000000\n",
       "max     59.990000    5.000000   7039.000000"
      ]
     },
     "execution_count": 6,
     "metadata": {},
     "output_type": "execute_result"
    }
   ],
   "source": [
    "products_df.describe()"
   ]
  },
  {
   "cell_type": "code",
   "execution_count": 7,
   "id": "0cafdf4b",
   "metadata": {},
   "outputs": [
    {
     "data": {
      "text/html": [
       "<div>\n",
       "<style scoped>\n",
       "    .dataframe tbody tr th:only-of-type {\n",
       "        vertical-align: middle;\n",
       "    }\n",
       "\n",
       "    .dataframe tbody tr th {\n",
       "        vertical-align: top;\n",
       "    }\n",
       "\n",
       "    .dataframe thead th {\n",
       "        text-align: right;\n",
       "    }\n",
       "</style>\n",
       "<table border=\"1\" class=\"dataframe\">\n",
       "  <thead>\n",
       "    <tr style=\"text-align: right;\">\n",
       "      <th></th>\n",
       "      <th>Rating</th>\n",
       "    </tr>\n",
       "  </thead>\n",
       "  <tbody>\n",
       "    <tr>\n",
       "      <th>count</th>\n",
       "      <td>2562.000000</td>\n",
       "    </tr>\n",
       "    <tr>\n",
       "      <th>mean</th>\n",
       "      <td>4.384075</td>\n",
       "    </tr>\n",
       "    <tr>\n",
       "      <th>std</th>\n",
       "      <td>1.125140</td>\n",
       "    </tr>\n",
       "    <tr>\n",
       "      <th>min</th>\n",
       "      <td>1.000000</td>\n",
       "    </tr>\n",
       "    <tr>\n",
       "      <th>25%</th>\n",
       "      <td>4.000000</td>\n",
       "    </tr>\n",
       "    <tr>\n",
       "      <th>50%</th>\n",
       "      <td>5.000000</td>\n",
       "    </tr>\n",
       "    <tr>\n",
       "      <th>75%</th>\n",
       "      <td>5.000000</td>\n",
       "    </tr>\n",
       "    <tr>\n",
       "      <th>max</th>\n",
       "      <td>5.000000</td>\n",
       "    </tr>\n",
       "  </tbody>\n",
       "</table>\n",
       "</div>"
      ],
      "text/plain": [
       "            Rating\n",
       "count  2562.000000\n",
       "mean      4.384075\n",
       "std       1.125140\n",
       "min       1.000000\n",
       "25%       4.000000\n",
       "50%       5.000000\n",
       "75%       5.000000\n",
       "max       5.000000"
      ]
     },
     "execution_count": 7,
     "metadata": {},
     "output_type": "execute_result"
    }
   ],
   "source": [
    "reviews_df.describe()"
   ]
  },
  {
   "cell_type": "markdown",
   "id": "6e8783ad",
   "metadata": {},
   "source": [
    "### Exploring Products"
   ]
  },
  {
   "cell_type": "markdown",
   "id": "061b0aab",
   "metadata": {},
   "source": [
    "Product prices have a right skew with an average around $10. The product results from the Amazon search of \"soft plastic fishing lures\" includes items related to lures and packages with different lure amounts, so the actual distribution in price per lure may look more normal than the results below. The max price item at 59.99 is shown below, and as expected, the product is not for a normal pack of lures. Instead, it is an injector for making soft plastic fishing lures."
   ]
  },
  {
   "cell_type": "code",
   "execution_count": 8,
   "id": "91eedb6d",
   "metadata": {},
   "outputs": [
    {
     "data": {
      "text/plain": [
       "count    317.000000\n",
       "mean      12.689306\n",
       "std        7.687224\n",
       "min        2.960000\n",
       "25%        7.990000\n",
       "50%        9.990000\n",
       "75%       15.330000\n",
       "max       59.990000\n",
       "Name: Price, dtype: float64"
      ]
     },
     "execution_count": 8,
     "metadata": {},
     "output_type": "execute_result"
    }
   ],
   "source": [
    "products_df['Price'].describe()"
   ]
  },
  {
   "cell_type": "code",
   "execution_count": 9,
   "id": "dcee6e39",
   "metadata": {
    "scrolled": false
   },
   "outputs": [
    {
     "data": {
      "image/png": "[encoded data removed]",
      "text/plain": [
       "<Figure size 640x480 with 1 Axes>"
      ]
     },
     "metadata": {},
     "output_type": "display_data"
    }
   ],
   "source": [
    "import warnings\n",
    "warnings.filterwarnings(\"ignore\")\n",
    "g = sns.histplot(x='Price', data=products_df, bins=20)\n",
    "plt.title(\"Product Prices\")\n",
    "xlabels = ['$'+'{:,.0f}'.format(x) for x in g.get_xticks()]\n",
    "g.set_xticklabels(xlabels);"
   ]
  },
  {
   "cell_type": "markdown",
   "id": "8eedef55",
   "metadata": {},
   "source": [
    "The most expensive item is an injector for making fishing lures."
   ]
  },
  {
   "cell_type": "code",
   "execution_count": 10,
   "id": "a4776f1a",
   "metadata": {},
   "outputs": [
    {
     "data": {
      "text/plain": [
       "'FishForm Aluminum Injector for Soft Plastic Plastisol Bait Forms Fishing Lure Making 7oz and 9.5oz'"
      ]
     },
     "execution_count": 10,
     "metadata": {},
     "output_type": "execute_result"
    }
   ],
   "source": [
    "products_df[products_df['Price'] == 59.99]['Name'].iloc[0]"
   ]
  },
  {
   "cell_type": "markdown",
   "id": "dab1b83b",
   "metadata": {},
   "source": [
    "The average ratings have a left skew with most products falling between 4 to 5 stars. There is a slight uptick at 1 star products, which likely are either low quality products or products with only 1 negative rating and no others."
   ]
  },
  {
   "cell_type": "code",
   "execution_count": 11,
   "id": "22644933",
   "metadata": {},
   "outputs": [
    {
     "data": {
      "text/plain": [
       "count    317.000000\n",
       "mean       4.186751\n",
       "std        0.671773\n",
       "min        1.000000\n",
       "25%        4.000000\n",
       "50%        4.300000\n",
       "75%        4.500000\n",
       "max        5.000000\n",
       "Name: Avg Rating, dtype: float64"
      ]
     },
     "execution_count": 11,
     "metadata": {},
     "output_type": "execute_result"
    }
   ],
   "source": [
    "products_df['Avg Rating'].describe()"
   ]
  },
  {
   "cell_type": "code",
   "execution_count": 12,
   "id": "be9780f4",
   "metadata": {},
   "outputs": [
    {
     "data": {
      "text/plain": [
       "Text(0.5, 0, 'Rating')"
      ]
     },
     "execution_count": 12,
     "metadata": {},
     "output_type": "execute_result"
    },
    {
     "data": {
      "image/png": "[encoded data removed]",
      "text/plain": [
       "<Figure size 640x480 with 1 Axes>"
      ]
     },
     "metadata": {},
     "output_type": "display_data"
    }
   ],
   "source": [
    "sns.histplot(x='Avg Rating', data=products_df, bins=20)\n",
    "plt.title(\"Average Product Rating\")\n",
    "plt.xlabel(\"Rating\")"
   ]
  },
  {
   "cell_type": "markdown",
   "id": "88e24d81",
   "metadata": {},
   "source": [
    "Taking a closer look at 1 star products, it appears the number of ratings for these products is no more than 2. To better understand the quality of the product, I would prefer to see a high number of ratings before trusting the average rating, even if the rating was 5 stars."
   ]
  },
  {
   "cell_type": "code",
   "execution_count": 13,
   "id": "95de4538",
   "metadata": {},
   "outputs": [
    {
     "data": {
      "text/html": [
       "<div>\n",
       "<style scoped>\n",
       "    .dataframe tbody tr th:only-of-type {\n",
       "        vertical-align: middle;\n",
       "    }\n",
       "\n",
       "    .dataframe tbody tr th {\n",
       "        vertical-align: top;\n",
       "    }\n",
       "\n",
       "    .dataframe thead th {\n",
       "        text-align: right;\n",
       "    }\n",
       "</style>\n",
       "<table border=\"1\" class=\"dataframe\">\n",
       "  <thead>\n",
       "    <tr style=\"text-align: right;\">\n",
       "      <th></th>\n",
       "      <th>asin</th>\n",
       "      <th>Name</th>\n",
       "      <th>Price</th>\n",
       "      <th>Avg Rating</th>\n",
       "      <th># of Ratings</th>\n",
       "    </tr>\n",
       "  </thead>\n",
       "  <tbody>\n",
       "    <tr>\n",
       "      <th>153</th>\n",
       "      <td>B0B84C3CZT</td>\n",
       "      <td>Phuayok 5Inch Soft Fishing Lures Paddle Tail S...</td>\n",
       "      <td>9.99</td>\n",
       "      <td>1.0</td>\n",
       "      <td>1</td>\n",
       "    </tr>\n",
       "    <tr>\n",
       "      <th>222</th>\n",
       "      <td>B09QQN6HL1</td>\n",
       "      <td>yurenyule Fishing Lures Kit Baits Tackle for B...</td>\n",
       "      <td>24.99</td>\n",
       "      <td>1.0</td>\n",
       "      <td>2</td>\n",
       "    </tr>\n",
       "    <tr>\n",
       "      <th>224</th>\n",
       "      <td>B09LCVS4J2</td>\n",
       "      <td>ZRM&amp;E 100pcs Soft Stainless Steel Lure Breaker...</td>\n",
       "      <td>6.98</td>\n",
       "      <td>1.0</td>\n",
       "      <td>1</td>\n",
       "    </tr>\n",
       "    <tr>\n",
       "      <th>262</th>\n",
       "      <td>B09TV2FSC7</td>\n",
       "      <td>Remembrance Fishing Lure Fishing in Heaven For...</td>\n",
       "      <td>9.99</td>\n",
       "      <td>1.0</td>\n",
       "      <td>1</td>\n",
       "    </tr>\n",
       "  </tbody>\n",
       "</table>\n",
       "</div>"
      ],
      "text/plain": [
       "           asin                                               Name  Price  \\\n",
       "153  B0B84C3CZT  Phuayok 5Inch Soft Fishing Lures Paddle Tail S...   9.99   \n",
       "222  B09QQN6HL1  yurenyule Fishing Lures Kit Baits Tackle for B...  24.99   \n",
       "224  B09LCVS4J2  ZRM&E 100pcs Soft Stainless Steel Lure Breaker...   6.98   \n",
       "262  B09TV2FSC7  Remembrance Fishing Lure Fishing in Heaven For...   9.99   \n",
       "\n",
       "     Avg Rating  # of Ratings  \n",
       "153         1.0             1  \n",
       "222         1.0             2  \n",
       "224         1.0             1  \n",
       "262         1.0             1  "
      ]
     },
     "execution_count": 13,
     "metadata": {},
     "output_type": "execute_result"
    }
   ],
   "source": [
    "products_df[products_df['Avg Rating'] == 1]"
   ]
  },
  {
   "cell_type": "markdown",
   "id": "f6261fe5",
   "metadata": {},
   "source": [
    "There is an extreme right skew in the number of ratings per product. The median is 9, but the mean is 126. Besides the extreme outlier at 7039 ratings, there are a few other very popular products that have over 500 ratings. Since I scraped 25 pages of search results, it makes sense that there are a lot of products with few ratings and a few very popular products with a high number of ratings."
   ]
  },
  {
   "cell_type": "code",
   "execution_count": 14,
   "id": "63fb0c89",
   "metadata": {},
   "outputs": [
    {
     "data": {
      "text/plain": [
       "count     317.000000\n",
       "mean      126.495268\n",
       "std       499.747402\n",
       "min         1.000000\n",
       "25%         2.000000\n",
       "50%         9.000000\n",
       "75%        48.000000\n",
       "max      7039.000000\n",
       "Name: # of Ratings, dtype: float64"
      ]
     },
     "execution_count": 14,
     "metadata": {},
     "output_type": "execute_result"
    }
   ],
   "source": [
    "products_df['# of Ratings'].describe()"
   ]
  },
  {
   "cell_type": "code",
   "execution_count": 15,
   "id": "187197e1",
   "metadata": {},
   "outputs": [
    {
     "data": {
      "text/plain": [
       "Text(0.5, 0, 'Number of Ratings')"
      ]
     },
     "execution_count": 15,
     "metadata": {},
     "output_type": "execute_result"
    },
    {
     "data": {
      "image/png": "[encoded data removed]",
      "text/plain": [
       "<Figure size 640x480 with 1 Axes>"
      ]
     },
     "metadata": {},
     "output_type": "display_data"
    }
   ],
   "source": [
    "sns.histplot(x='# of Ratings', data=products_df, bins=50)\n",
    "plt.title(\"Number of Ratings Per Product\")\n",
    "plt.xlabel(\"Number of Ratings\")"
   ]
  },
  {
   "cell_type": "markdown",
   "id": "f9e6ed92",
   "metadata": {},
   "source": [
    "Taking a closer look at products with less than 100 ratings. 259 of the 317 products have less than 100 ratings. The histogram shows a clear right skew as most products have few ratings."
   ]
  },
  {
   "cell_type": "code",
   "execution_count": 16,
   "id": "6d4d5c69",
   "metadata": {},
   "outputs": [],
   "source": [
    "ratings_no_outliers = products_df[products_df['# of Ratings'] < 100]"
   ]
  },
  {
   "cell_type": "code",
   "execution_count": 17,
   "id": "4c6aac7b",
   "metadata": {},
   "outputs": [
    {
     "data": {
      "text/plain": [
       "259"
      ]
     },
     "execution_count": 17,
     "metadata": {},
     "output_type": "execute_result"
    }
   ],
   "source": [
    "len(ratings_no_outliers)"
   ]
  },
  {
   "cell_type": "code",
   "execution_count": 18,
   "id": "6b1d59cf",
   "metadata": {},
   "outputs": [
    {
     "data": {
      "text/plain": [
       "Text(0.5, 0, 'Number of Ratings')"
      ]
     },
     "execution_count": 18,
     "metadata": {},
     "output_type": "execute_result"
    },
    {
     "data": {
      "image/png": "[encoded data removed]",
      "text/plain": [
       "<Figure size 640x480 with 1 Axes>"
      ]
     },
     "metadata": {},
     "output_type": "display_data"
    }
   ],
   "source": [
    "sns.histplot(x='# of Ratings', data=ratings_no_outliers, bins=50)\n",
    "plt.title(\"Number of Ratings Per Product\")\n",
    "plt.xlabel(\"Number of Ratings\")"
   ]
  },
  {
   "cell_type": "markdown",
   "id": "a45c5830",
   "metadata": {},
   "source": [
    "Because there are a lot of products with very few ratings, there are even more products with few or no reviews. I will begin exploring the reviews I collected from the products explored above. A majority of the reviews will come from the most popular products. This should not be a problem since my goal is to understand the qualities that make a soft plastic fishing lure good or bad, and the most important factor is the written reviews that describe the products."
   ]
  },
  {
   "cell_type": "markdown",
   "id": "7a6b9ffb",
   "metadata": {},
   "source": [
    "### Exploring Reviews"
   ]
  },
  {
   "cell_type": "code",
   "execution_count": 19,
   "id": "0fa89559",
   "metadata": {},
   "outputs": [],
   "source": [
    "# Add new column for length of each review\n",
    "reviews_df['Review Length'] = reviews_df['Body'].str.len()"
   ]
  },
  {
   "cell_type": "markdown",
   "id": "696118ee",
   "metadata": {},
   "source": [
    "Most reviews are 5 star reviews, and the review length for each star rating has a right skew."
   ]
  },
  {
   "cell_type": "code",
   "execution_count": 20,
   "id": "c47a1ed2",
   "metadata": {},
   "outputs": [
    {
     "data": {
      "text/plain": [
       "5.0    1782\n",
       "4.0     361\n",
       "3.0     181\n",
       "1.0     141\n",
       "2.0      97\n",
       "Name: Rating, dtype: int64"
      ]
     },
     "execution_count": 20,
     "metadata": {},
     "output_type": "execute_result"
    }
   ],
   "source": [
    "reviews_df['Rating'].value_counts()"
   ]
  },
  {
   "cell_type": "code",
   "execution_count": 21,
   "id": "29082046",
   "metadata": {},
   "outputs": [
    {
     "data": {
      "text/plain": [
       "Text(0, 0.5, 'Count')"
      ]
     },
     "execution_count": 21,
     "metadata": {},
     "output_type": "execute_result"
    },
    {
     "data": {
      "image/png": "[encoded data removed]",
      "text/plain": [
       "<Figure size 640x480 with 1 Axes>"
      ]
     },
     "metadata": {},
     "output_type": "display_data"
    }
   ],
   "source": [
    "sns.countplot(x='Rating',data=reviews_df)\n",
    "plt.title(\"Review Ratings\")\n",
    "plt.ylabel(\"Count\")"
   ]
  },
  {
   "cell_type": "code",
   "execution_count": 22,
   "id": "f4fd981c",
   "metadata": {},
   "outputs": [
    {
     "data": {
      "text/plain": [
       "<seaborn.axisgrid.FacetGrid at 0x2e13a8d16d0>"
      ]
     },
     "execution_count": 22,
     "metadata": {},
     "output_type": "execute_result"
    },
    {
     "data": {
      "image/png": "[encoded data removed]",
      "text/plain": [
       "<Figure size 1500x300 with 5 Axes>"
      ]
     },
     "metadata": {},
     "output_type": "display_data"
    }
   ],
   "source": [
    "g = sns.FacetGrid(reviews_df,col='Rating')\n",
    "g.map(plt.hist,'Review Length')"
   ]
  },
  {
   "cell_type": "markdown",
   "id": "d39266c7",
   "metadata": {},
   "source": [
    "Most reviews are short at over 100 characters regardless of rating. There tends to be outlier reviews that are much longer than the fourth quartile of around 400 characters."
   ]
  },
  {
   "cell_type": "code",
   "execution_count": 23,
   "id": "ec6386c1",
   "metadata": {},
   "outputs": [
    {
     "data": {
      "text/plain": [
       "count    2544.000000\n",
       "mean      136.152123\n",
       "std       158.578737\n",
       "min         3.000000\n",
       "25%        35.000000\n",
       "50%        80.000000\n",
       "75%       178.000000\n",
       "max      1522.000000\n",
       "Name: Review Length, dtype: float64"
      ]
     },
     "execution_count": 23,
     "metadata": {},
     "output_type": "execute_result"
    }
   ],
   "source": [
    "reviews_df['Review Length'].describe()"
   ]
  },
  {
   "cell_type": "code",
   "execution_count": 24,
   "id": "30d3fd82",
   "metadata": {
    "scrolled": false
   },
   "outputs": [
    {
     "data": {
      "text/plain": [
       "Text(0.5, 1.0, 'Review Length by Rating')"
      ]
     },
     "execution_count": 24,
     "metadata": {},
     "output_type": "execute_result"
    },
    {
     "data": {
      "image/png": "[encoded data removed]",
      "text/plain": [
       "<Figure size 640x480 with 1 Axes>"
      ]
     },
     "metadata": {},
     "output_type": "display_data"
    }
   ],
   "source": [
    "sns.boxplot(x='Rating',y='Review Length',data=reviews_df)\n",
    "plt.title(\"Review Length by Rating\")"
   ]
  },
  {
   "cell_type": "markdown",
   "id": "57591ca4",
   "metadata": {},
   "source": [
    "The longest review was 1522 characters. Here it is below."
   ]
  },
  {
   "cell_type": "code",
   "execution_count": 25,
   "id": "43df4c09",
   "metadata": {
    "scrolled": true
   },
   "outputs": [
    {
     "data": {
      "text/plain": [
       "'\\nAmazing worm lures, hits on almost every cast. Here\\'s the downside: after a big bass hits the plastic worm, and you bring that bass in, chances are the worm lure will be trashed after one catch. They move more freely than the Senko worms and actually mimic a live worm moving much better than the Senko underwater. I am using it with a EWG 4/0 Razor Sharp Eagle Claw hook and the Yum Dinger size 5 worms.... I have also tried them with 1/0, 2/0, 3/0 and live worm hooks, they still break easily...They work fine without a 1/4 ounce Texas Rig weight- if you are casting into shallow water, otherwise I use a 1/4 ounce Texas rig in 12-20 feet of water. I have tried them also as a wacky worm setup with O rings (I use 2 O rings in a crisscross pattern), not as effective. I would give this worm 5 stars if the plastic lure lasted longer, so here is what I do, order them at W-----t for 2.97 and bite the bullet on how long they last. The 7\" Senko\\'s also do not have a channel to make the lure weed free, and the Yum Dinger\\'s 5\" worms do have that channel... I have a higher catch rate on these vs. the Senko\\'s, the Zoom Brush Hog, the Zoom Baby Brush Hog, and the Yum Ribbontail. I also use the Berkley Trilene Green Monofilament 12 lb. line.  I also love the red Eagle Claw EWG hooks that I buy at W-----t, like the Gamakatsu, red hooks are supposed to be the best color to use, since bass have a problem seeing the color red, according to the pros. Bottom line- If you get these plastic worms, you won\\'t be disappointed.\\n'"
      ]
     },
     "execution_count": 25,
     "metadata": {},
     "output_type": "execute_result"
    }
   ],
   "source": [
    "reviews_df[reviews_df['Review Length'] == 1522]['Body'].iloc[0]"
   ]
  },
  {
   "cell_type": "markdown",
   "id": "d2ebc5aa",
   "metadata": {},
   "source": [
    "I am categorizing the reviews as positive or negative based on their rating. I am classifying positive reviews as 4 or 5 stars and negative reviews as 1, 2 or 3 stars. This label is what I will attempt to predict when I build a natural language processing model."
   ]
  },
  {
   "cell_type": "code",
   "execution_count": 26,
   "id": "60c29f6f",
   "metadata": {},
   "outputs": [
    {
     "data": {
      "text/plain": [
       "2143"
      ]
     },
     "execution_count": 26,
     "metadata": {},
     "output_type": "execute_result"
    }
   ],
   "source": [
    "len(reviews_df[(reviews_df[\"Rating\"] == 5) | (reviews_df[\"Rating\"] == 4)])"
   ]
  },
  {
   "cell_type": "code",
   "execution_count": 27,
   "id": "4eeb64d7",
   "metadata": {},
   "outputs": [
    {
     "data": {
      "text/plain": [
       "419"
      ]
     },
     "execution_count": 27,
     "metadata": {},
     "output_type": "execute_result"
    }
   ],
   "source": [
    "len(reviews_df[(reviews_df[\"Rating\"] == 1) | (reviews_df[\"Rating\"] == 2) | (reviews_df[\"Rating\"] == 3)])"
   ]
  },
  {
   "cell_type": "code",
   "execution_count": 28,
   "id": "b7bba0b2",
   "metadata": {},
   "outputs": [],
   "source": [
    "label_list = []\n",
    "for row in range(len(reviews_df)):\n",
    "        if (reviews_df[\"Rating\"].iloc[row] == 4) | (reviews_df[\"Rating\"].iloc[row] == 5):\n",
    "            label_list.append('positive')\n",
    "        else:\n",
    "            label_list.append('negative')"
   ]
  },
  {
   "cell_type": "code",
   "execution_count": 29,
   "id": "b1649d80",
   "metadata": {},
   "outputs": [
    {
     "data": {
      "text/plain": [
       "2143"
      ]
     },
     "execution_count": 29,
     "metadata": {},
     "output_type": "execute_result"
    }
   ],
   "source": [
    "# The list added labels correctly as there is the same number of positive labels as reviews with 4 or 5 star ratings above.\n",
    "label_list.count('positive')"
   ]
  },
  {
   "cell_type": "code",
   "execution_count": 30,
   "id": "bab3b840",
   "metadata": {},
   "outputs": [
    {
     "data": {
      "text/plain": [
       "419"
      ]
     },
     "execution_count": 30,
     "metadata": {},
     "output_type": "execute_result"
    }
   ],
   "source": [
    "label_list.count('negative')"
   ]
  },
  {
   "cell_type": "code",
   "execution_count": 31,
   "id": "2d3e1905",
   "metadata": {},
   "outputs": [],
   "source": [
    "# new column 'Review Label' where value is either 'positive' or 'negative'\n",
    "reviews_df['Review Label'] = label_list"
   ]
  },
  {
   "cell_type": "code",
   "execution_count": 32,
   "id": "55501f97",
   "metadata": {},
   "outputs": [
    {
     "data": {
      "text/plain": [
       "Text(0.5, 1.0, 'Positive v Negative Reviews')"
      ]
     },
     "execution_count": 32,
     "metadata": {},
     "output_type": "execute_result"
    },
    {
     "data": {
      "image/png": "[encoded data removed]",
      "text/plain": [
       "<Figure size 640x480 with 1 Axes>"
      ]
     },
     "metadata": {},
     "output_type": "display_data"
    }
   ],
   "source": [
    "sns.countplot(x='Review Label',data=reviews_df)\n",
    "plt.title(\"Positive v Negative Reviews\")"
   ]
  },
  {
   "cell_type": "markdown",
   "id": "8e2d87f0",
   "metadata": {},
   "source": [
    "There are many more positive reviews than negative reviews since most reviews are 5 star reviews."
   ]
  },
  {
   "cell_type": "code",
   "execution_count": 33,
   "id": "990e1c72",
   "metadata": {},
   "outputs": [
    {
     "data": {
      "text/html": [
       "<div>\n",
       "<style scoped>\n",
       "    .dataframe tbody tr th:only-of-type {\n",
       "        vertical-align: middle;\n",
       "    }\n",
       "\n",
       "    .dataframe tbody tr th {\n",
       "        vertical-align: top;\n",
       "    }\n",
       "\n",
       "    .dataframe thead th {\n",
       "        text-align: right;\n",
       "    }\n",
       "</style>\n",
       "<table border=\"1\" class=\"dataframe\">\n",
       "  <thead>\n",
       "    <tr style=\"text-align: right;\">\n",
       "      <th></th>\n",
       "      <th>asin</th>\n",
       "      <th>Review ID</th>\n",
       "      <th>Title</th>\n",
       "      <th>Body</th>\n",
       "      <th>Rating</th>\n",
       "      <th>Review Length</th>\n",
       "      <th>Review Label</th>\n",
       "    </tr>\n",
       "  </thead>\n",
       "  <tbody>\n",
       "    <tr>\n",
       "      <th>0</th>\n",
       "      <td>B08CQ4HXHV</td>\n",
       "      <td>R2Y2A5WJ9Q84I9</td>\n",
       "      <td>\\nI keep stocked up\\n</td>\n",
       "      <td>\\nThis is my go to worm on the Little Pigeon R...</td>\n",
       "      <td>5.0</td>\n",
       "      <td>250.0</td>\n",
       "      <td>positive</td>\n",
       "    </tr>\n",
       "    <tr>\n",
       "      <th>1</th>\n",
       "      <td>B08CQ4HXHV</td>\n",
       "      <td>RJHR3X7CVOZE8</td>\n",
       "      <td>\\nIt just works\\n</td>\n",
       "      <td>\\nOne of my most successful soft plastics, the...</td>\n",
       "      <td>4.0</td>\n",
       "      <td>876.0</td>\n",
       "      <td>positive</td>\n",
       "    </tr>\n",
       "    <tr>\n",
       "      <th>2</th>\n",
       "      <td>B08CQ4HXHV</td>\n",
       "      <td>R2D40LMXK190YP</td>\n",
       "      <td>\\nThese baits catch fish!\\n</td>\n",
       "      <td>\\nThey catch fish and they’re durable too. I’v...</td>\n",
       "      <td>5.0</td>\n",
       "      <td>132.0</td>\n",
       "      <td>positive</td>\n",
       "    </tr>\n",
       "    <tr>\n",
       "      <th>3</th>\n",
       "      <td>B08CQ4HXHV</td>\n",
       "      <td>R1KKR6D1SQ3D4D</td>\n",
       "      <td>\\nThese things just catch fish.\\n</td>\n",
       "      <td>\\nDon't have the action of a Yamamoto but stil...</td>\n",
       "      <td>4.0</td>\n",
       "      <td>132.0</td>\n",
       "      <td>positive</td>\n",
       "    </tr>\n",
       "    <tr>\n",
       "      <th>4</th>\n",
       "      <td>B08CQ4HXHV</td>\n",
       "      <td>R1V6NVM2KWFOZ5</td>\n",
       "      <td>\\nBass love it\\n</td>\n",
       "      <td>\\nIt’s a hit with the bass, but rips easily.  ...</td>\n",
       "      <td>4.0</td>\n",
       "      <td>79.0</td>\n",
       "      <td>positive</td>\n",
       "    </tr>\n",
       "  </tbody>\n",
       "</table>\n",
       "</div>"
      ],
      "text/plain": [
       "         asin       Review ID                              Title  \\\n",
       "0  B08CQ4HXHV  R2Y2A5WJ9Q84I9              \\nI keep stocked up\\n   \n",
       "1  B08CQ4HXHV   RJHR3X7CVOZE8                  \\nIt just works\\n   \n",
       "2  B08CQ4HXHV  R2D40LMXK190YP        \\nThese baits catch fish!\\n   \n",
       "3  B08CQ4HXHV  R1KKR6D1SQ3D4D  \\nThese things just catch fish.\\n   \n",
       "4  B08CQ4HXHV  R1V6NVM2KWFOZ5                   \\nBass love it\\n   \n",
       "\n",
       "                                                Body  Rating  Review Length  \\\n",
       "0  \\nThis is my go to worm on the Little Pigeon R...     5.0          250.0   \n",
       "1  \\nOne of my most successful soft plastics, the...     4.0          876.0   \n",
       "2  \\nThey catch fish and they’re durable too. I’v...     5.0          132.0   \n",
       "3  \\nDon't have the action of a Yamamoto but stil...     4.0          132.0   \n",
       "4  \\nIt’s a hit with the bass, but rips easily.  ...     4.0           79.0   \n",
       "\n",
       "  Review Label  \n",
       "0     positive  \n",
       "1     positive  \n",
       "2     positive  \n",
       "3     positive  \n",
       "4     positive  "
      ]
     },
     "execution_count": 33,
     "metadata": {},
     "output_type": "execute_result"
    }
   ],
   "source": [
    "reviews_df.head()"
   ]
  },
  {
   "cell_type": "code",
   "execution_count": 34,
   "id": "e3d1ef22",
   "metadata": {},
   "outputs": [],
   "source": [
    "reviews_df.to_csv('Data/Reviews with Label.csv',index=False)"
   ]
  },
  {
   "cell_type": "markdown",
   "id": "e1afadab",
   "metadata": {},
   "source": [
    "### Next Steps"
   ]
  },
  {
   "cell_type": "markdown",
   "id": "80949872",
   "metadata": {},
   "source": [
    "On the next notebook, 'Amazon Reviews Text Processing and Modeling', I will process the review text and build a model to predict the proper classification of the review, positive or negative."
   ]
  }
 ],
 "metadata": {
  "kernelspec": {
   "display_name": "Python 3 (ipykernel)",
   "language": "python",
   "name": "python3"
  },
  "language_info": {
   "codemirror_mode": {
    "name": "ipython",
    "version": 3
   },
   "file_extension": ".py",
   "mimetype": "text/x-python",
   "name": "python",
   "nbconvert_exporter": "python",
   "pygments_lexer": "ipython3",
   "version": "3.9.12"
  }
 },
 "nbformat": 4,
 "nbformat_minor": 5
}
